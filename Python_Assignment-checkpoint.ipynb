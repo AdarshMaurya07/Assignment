{
 "cells": [
  {
   "cell_type": "code",
   "execution_count": 1,
   "id": "b14100ff",
   "metadata": {},
   "outputs": [
    {
     "name": "stdout",
     "output_type": "stream",
     "text": [
      "Enter Latitude -  12.9716\n",
      "Enter Longitude -  77.5946\n",
      "City :  Bengaluru\n",
      "State :  Karnataka\n",
      "Country :  India\n",
      "Zip Code :  560001PH\n"
     ]
    }
   ],
   "source": [
    "\n",
    "# import module\n",
    "from geopy.geocoders import Nominatim\n",
    "  \n",
    "# initialize Nominatim API\n",
    "geolocator = Nominatim(user_agent=\"geoapiExercises\")\n",
    "  \n",
    "  \n",
    "#Latitude & Longitude input\n",
    "Latitude = input(\"Enter Latitude - \" + \" \")\n",
    "Longitude = input(\"Enter Longitude - \" +\" \")\n",
    "  \n",
    "location = geolocator.reverse(Latitude+\",\"+Longitude)\n",
    "  \n",
    "address = location.raw['address']\n",
    "  \n",
    "\n",
    "city = address.get('city', '')\n",
    "state = address.get('state', '')\n",
    "country = address.get('country', '')\n",
    "code = address.get('country_code')\n",
    "zipcode = address.get('postcode')\n",
    "print('City : ', city)\n",
    "print('State : ', state)\n",
    "print('Country : ', country)\n",
    "print('Zip Code : ', zipcode)"
   ]
  },
  {
   "cell_type": "code",
   "execution_count": 2,
   "id": "f860ff0e",
   "metadata": {},
   "outputs": [
    {
     "name": "stdout",
     "output_type": "stream",
     "text": [
      "2.0043678382716137 K.M\n"
     ]
    }
   ],
   "source": [
    "\n",
    "# Python 3 program to calculate minimum Distance travelled\n",
    "from math import radians, cos, sin, asin, sqrt\n",
    "def distance(lat1, lat2, lon1, lon2):\n",
    "     \n",
    "    # The math module contains a function named\n",
    "    # radians which converts from degrees to radians.\n",
    "    lon1 = radians(lon1)\n",
    "    lon2 = radians(lon2)\n",
    "    lat1 = radians(lat1)\n",
    "    lat2 = radians(lat2)\n",
    "      \n",
    "    # Haversine formula\n",
    "    dlon = lon2 - lon1\n",
    "    dlat = lat2 - lat1\n",
    "    a = sin(dlat / 2)**2 + cos(lat1) * cos(lat2) * sin(dlon / 2)**2\n",
    " \n",
    "    c = 2 * asin(sqrt(a))\n",
    "    \n",
    "    # Radius of earth in kilometers. Use 3956 for miles\n",
    "    r = 6371\n",
    "      \n",
    "    # calculate the result\n",
    "    return(c * r)\n",
    "     \n",
    "     \n",
    "# driver code\n",
    "lat1 = 53.32055555555556\n",
    "lat2 = 53.31861111111111\n",
    "lon1 = -1.7297222222222221\n",
    "lon2 =  -1.6997222222222223\n",
    "print(distance(lat1, lat2, lon1, lon2), \"K.M\")"
   ]
  },
  {
   "cell_type": "code",
   "execution_count": null,
   "id": "188acdc0",
   "metadata": {},
   "outputs": [],
   "source": []
  }
 ],
 "metadata": {
  "kernelspec": {
   "display_name": "Python 3",
   "language": "python",
   "name": "python3"
  },
  "language_info": {
   "codemirror_mode": {
    "name": "ipython",
    "version": 3
   },
   "file_extension": ".py",
   "mimetype": "text/x-python",
   "name": "python",
   "nbconvert_exporter": "python",
   "pygments_lexer": "ipython3",
   "version": "3.8.8"
  }
 },
 "nbformat": 4,
 "nbformat_minor": 5
}
